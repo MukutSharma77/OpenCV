{
 "cells": [
  {
   "cell_type": "markdown",
   "id": "df60415e",
   "metadata": {},
   "source": [
    "# Reading, writing and displaying images with OpenCV\n",
    "\n",
    "Let's start by importing the OpenCV libary "
   ]
  },
  {
   "cell_type": "code",
   "execution_count": 2,
   "id": "721201c0",
   "metadata": {},
   "outputs": [],
   "source": [
    "import cv2 #Importing OpenCV\n",
    "\n",
    "import numpy as np #Importing numpy"
   ]
  },
  {
   "cell_type": "markdown",
   "id": "b33dc076",
   "metadata": {},
   "source": [
    "### Let's now load our Elephant image"
   ]
  },
  {
   "cell_type": "code",
   "execution_count": 3,
   "id": "33b73c23",
   "metadata": {},
   "outputs": [],
   "source": [
    "\n",
    "# Load an image using 'imread' specifying the path to image\n",
    "input = cv2.imread('./image_examples/elephant.jpg')\n",
    "\n",
    "# Our file 'input.jpg' is now loaded and stored in python \n",
    "# as a varaible we named 'image'\n",
    "\n",
    "# To display our image variable, we use 'imshow'\n",
    "# The first parameter will be title shown on image window\n",
    "# The second parameter is the image varialbe\n",
    "cv2.imshow('Test Elephant Image', input)\n",
    "\n",
    "# 'waitKey' allows us to input information when a image window is open\n",
    "# By leaving it blank it just waits for anykey to be pressed before \n",
    "# continuing. By placing numbers (except 0), we can specify a delay for\n",
    "# how long you keep the window open (time is in milliseconds here)\n",
    "cv2.waitKey()\n",
    "\n",
    "# This closes all open windows \n",
    "# Failure to place this will cause your program to hang\n",
    "cv2.destroyAllWindows()"
   ]
  },
  {
   "cell_type": "markdown",
   "id": "e89a3048",
   "metadata": {},
   "source": [
    "#### Let's take a closer look at how images are stored"
   ]
  },
  {
   "cell_type": "code",
   "execution_count": 4,
   "id": "07c91da1",
   "metadata": {},
   "outputs": [
    {
     "name": "stdout",
     "output_type": "stream",
     "text": [
      "(519, 778, 3)\n"
     ]
    }
   ],
   "source": [
    "print(input.shape)"
   ]
  },
  {
   "cell_type": "markdown",
   "id": "b06c89da",
   "metadata": {},
   "source": [
    "### Shape gives the dimensions of the image array\n",
    "\n",
    "The 2D dimensions are 830 pixels in high bv 1245 pixels wide. The '3L' means that there are 3 other components (RGB) that make up this image.\n"
   ]
  },
  {
   "cell_type": "code",
   "execution_count": 5,
   "id": "acfd596d",
   "metadata": {},
   "outputs": [
    {
     "name": "stdout",
     "output_type": "stream",
     "text": [
      "Height of Image: 519 pixels\n",
      "Width of Image:  778 pixels\n"
     ]
    }
   ],
   "source": [
    "# Let's print each dimension of the image\n",
    "\n",
    "print('Height of Image:', int(input.shape[0]), 'pixels')\n",
    "print('Width of Image: ', int(input.shape[1]), 'pixels')"
   ]
  },
  {
   "cell_type": "markdown",
   "id": "09732569",
   "metadata": {},
   "source": [
    "### How do we save images we edit in OpenCV?"
   ]
  },
  {
   "cell_type": "code",
   "execution_count": 6,
   "id": "bedcdb7d",
   "metadata": {},
   "outputs": [
    {
     "data": {
      "text/plain": [
       "True"
      ]
     },
     "execution_count": 6,
     "metadata": {},
     "output_type": "execute_result"
    }
   ],
   "source": [
    "# Simply use 'imwrite' specificing the file name and the image to be saved\n",
    "cv2.imwrite('output.jpg', input)\n",
    "cv2.imwrite('output.png', input)"
   ]
  },
  {
   "cell_type": "code",
   "execution_count": null,
   "id": "4748a14b",
   "metadata": {},
   "outputs": [],
   "source": []
  }
 ],
 "metadata": {
  "kernelspec": {
   "display_name": "Python 3",
   "language": "python",
   "name": "python3"
  },
  "language_info": {
   "codemirror_mode": {
    "name": "ipython",
    "version": 3
   },
   "file_extension": ".py",
   "mimetype": "text/x-python",
   "name": "python",
   "nbconvert_exporter": "python",
   "pygments_lexer": "ipython3",
   "version": "3.8.8"
  }
 },
 "nbformat": 4,
 "nbformat_minor": 5
}
